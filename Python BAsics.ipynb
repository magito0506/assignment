{
 "cells": [
  {
   "cell_type": "code",
   "execution_count": null,
   "id": "83f7b758-2787-44a4-89da-1f36053252b2",
   "metadata": {},
   "outputs": [],
   "source": [
    "A1\n",
    "str=\"the string variable\"\n",
    "list=[1,2,5,4,5.6,\"mayank\"]\n",
    "float=3.45\n",
    "tuple=(1,2,4,8,5)"
   ]
  },
  {
   "cell_type": "code",
   "execution_count": null,
   "id": "5b936107-edcc-42cf-a8d8-9137368eca70",
   "metadata": {},
   "outputs": [],
   "source": [
    "A2\n",
    "var1 = str\n",
    "var2 = str\n",
    "var3 = list\n",
    "var4 = float"
   ]
  },
  {
   "cell_type": "code",
   "execution_count": null,
   "id": "bf0dc887-541e-45bc-b46a-33fc685c4f37",
   "metadata": {},
   "outputs": [],
   "source": [
    "A3\n",
    "(i) / = division operator\n",
    "example:\n",
    "    a=3\n",
    "    b=10\n",
    "    print(b/a)  {output= 3.33}\n",
    "(ii) % = modulo operator (it returns remainder)\n",
    "example:\n",
    "    a=3\n",
    "    b=10\n",
    "    print(b%a)  {optpur= 1}\n",
    "(iii) // = Floor Division Operator (returns division value as integer)\n",
    "example:\n",
    "    a=3\n",
    "    b=10\n",
    "    print(b//a)  {optpur= 3}\n",
    "(iv) ** = Exponential Operator\n",
    "example:\n",
    "     a=2\n",
    "    b=5\n",
    "    print(a**b)  {optpur= 32}"
   ]
  },
  {
   "cell_type": "code",
   "execution_count": null,
   "id": "72cf191a-0ed7-4964-9eb2-8eebc8f3ee06",
   "metadata": {},
   "outputs": [],
   "source": [
    "A4\n",
    "l=[1,2,5,4,55.34,\"mayank\", True]\n",
    "for i in l:\n",
    "    print(i)\n",
    "    print(type(i))"
   ]
  },
  {
   "cell_type": "code",
   "execution_count": null,
   "id": "306dd83f-cb46-47fa-9da9-63d4ca7b2bf6",
   "metadata": {},
   "outputs": [],
   "source": [
    "A5\n",
    "a=100\n",
    "b=5\n",
    "count=0\n",
    "while(a%b==0):\n",
    "    a=a//b\n",
    "    count+=1\n",
    "print(count)"
   ]
  },
  {
   "cell_type": "code",
   "execution_count": null,
   "id": "b5a96dea-8070-4341-a779-059d0c5e85c8",
   "metadata": {},
   "outputs": [],
   "source": [
    "A6\n",
    "l=[1,2,3,4,5,6,7,8,9,10,11,12,13,14,15,16,17,18,19,20,21,22,23,24,25]\n",
    "for i in l:\n",
    "    if(i%3==0):\n",
    "        print(\"the number is divisible by 3\")\n",
    "    else:\n",
    "        print(\"the number is not divisible by 3\")"
   ]
  },
  {
   "cell_type": "code",
   "execution_count": null,
   "id": "9aa5a184-6b83-43ab-b93d-ad20ace1f10c",
   "metadata": {},
   "outputs": [],
   "source": [
    "A7\n"
   ]
  }
 ],
 "metadata": {
  "kernelspec": {
   "display_name": "Python 3 (ipykernel)",
   "language": "python",
   "name": "python3"
  },
  "language_info": {
   "codemirror_mode": {
    "name": "ipython",
    "version": 3
   },
   "file_extension": ".py",
   "mimetype": "text/x-python",
   "name": "python",
   "nbconvert_exporter": "python",
   "pygments_lexer": "ipython3",
   "version": "3.10.8"
  }
 },
 "nbformat": 4,
 "nbformat_minor": 5
}
