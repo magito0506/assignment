{
 "cells": [
  {
   "cell_type": "code",
   "execution_count": null,
   "id": "a9b35541-9df9-4585-9d2f-895dc948b610",
   "metadata": {},
   "outputs": [],
   "source": [
    "A1\n",
    "def keyword is used to create a function.\n",
    "def fun():\n",
    "    l1=[]\n",
    "    for i in range(25):\n",
    "        if i%2==0:\n",
    "            l1.append(i)\n",
    "    return l1"
   ]
  },
  {
   "cell_type": "code",
   "execution_count": null,
   "id": "2971340e-ef42-4bf2-b875-700f25ccf945",
   "metadata": {},
   "outputs": [],
   "source": [
    "A2\n",
    "*args allows to pass the variable number of positional arguments to as function.\n",
    "It gives the output as tuple.\n",
    "def fun(*args):\n",
    "    return args\n",
    "\n",
    "**kwargs allows to pass a variable number of keyword arguments to a function.\n",
    "It will take the input in the form of key value format.\n",
    "It returns the output as dictionary.\n",
    "def fun(**kwargs):\n",
    "    return kwargs"
   ]
  },
  {
   "cell_type": "code",
   "execution_count": null,
   "id": "24110c25-b108-4df1-b16b-71d24860823f",
   "metadata": {},
   "outputs": [],
   "source": [
    "A3\n",
    "Iterator is an object that allows iteration over a sequence of elements. It provides access to the elements of a container like list or string.\n",
    "To initialise an iterator object we use iter() function and the next() method is used to get the value of next iteration.\n",
    "\n",
    "l=[2,4,6,8,10,12,14,16,18,20]\n",
    "a=iter(l)\n",
    "for i in range(5):\n",
    "    print(next(a))"
   ]
  },
  {
   "cell_type": "code",
   "execution_count": null,
   "id": "6f978300-ba8f-4f0b-9561-d954cd5734d5",
   "metadata": {},
   "outputs": [],
   "source": [
    "A4\n",
    "The generator function in python is used to generate an iterator. It returns the value it generated using the yield keyword instead of return keyword in a normal function.\n",
    "example:"
   ]
  },
  {
   "cell_type": "code",
   "execution_count": 34,
   "id": "53f7a46a-9a33-4ea1-b928-12186dd1ee0c",
   "metadata": {},
   "outputs": [],
   "source": [
    "def fun(n):\n",
    "    a,b=1,2\n",
    "    for i in range(n):\n",
    "        yield a\n",
    "        a,b=b,b*2"
   ]
  },
  {
   "cell_type": "code",
   "execution_count": 35,
   "id": "ce3b078c-e9e6-4de7-b55c-cffd2febccb0",
   "metadata": {},
   "outputs": [],
   "source": [
    "list=fun(10)"
   ]
  },
  {
   "cell_type": "code",
   "execution_count": null,
   "id": "0feffa9b-b2e7-480b-b871-e00ca2f3c0f6",
   "metadata": {},
   "outputs": [],
   "source": [
    "for i in fun(10):\n",
    "    print(i)"
   ]
  },
  {
   "cell_type": "code",
   "execution_count": null,
   "id": "ba1e17e3-8fc4-432d-88df-f618c0968ae2",
   "metadata": {},
   "outputs": [],
   "source": [
    "A5\n",
    "\n",
    "def prime_check(n):\n",
    "    if n<2:\n",
    "        return False\n",
    "    for i in range (2,int(n*0.5)+1):\n",
    "        if n%i==0:\n",
    "            return False\n",
    "    return True\n",
    "\n",
    "def num_gen():\n",
    "    for num in range(2,1000):\n",
    "        if prime_check(num):\n",
    "            yield num\n",
    "            \n",
    "prime=num_gen()\n",
    "for j in range(20):\n",
    "    print(next(prime))"
   ]
  },
  {
   "cell_type": "code",
   "execution_count": null,
   "id": "bee60837-9426-45ca-9de3-663e6096e70e",
   "metadata": {},
   "outputs": [],
   "source": [
    "A6\n",
    "\n",
    "def fib_num():\n",
    "    a,b=0,1\n",
    "    while True:\n",
    "        a,b=b,a+b\n",
    "        yield a\n",
    "        \n",
    "fib=fib_num()\n",
    "\n",
    "for i in range(10):\n",
    "    print(next(fib))"
   ]
  },
  {
   "cell_type": "code",
   "execution_count": null,
   "id": "3b646834-d70e-453c-b403-0b0cea019f2c",
   "metadata": {},
   "outputs": [],
   "source": [
    "A7\n",
    "\n",
    "string = \"pwskills\"\n",
    "l=[]\n",
    "for i in string:\n",
    "    if i in \"pwskills\":\n",
    "        l.append(i)\n",
    "print(l)"
   ]
  },
  {
   "cell_type": "code",
   "execution_count": null,
   "id": "89c8f852-7166-46af-ba47-79fe66df3591",
   "metadata": {},
   "outputs": [],
   "source": [
    "A8\n",
    "\n",
    "num=int(input(\"Enter a number:\"))\n",
    "temp=num\n",
    "rev=0\n",
    "while(num>0):\n",
    "    dig=num%10\n",
    "    rev=rev*10+dig\n",
    "    num=num//10\n",
    "if(temp==rev):\n",
    "    print(\"The number is palindrome!\")\n",
    "else:\n",
    "    print(\"Not a palindrome!\")"
   ]
  },
  {
   "cell_type": "code",
   "execution_count": null,
   "id": "07b31ab1-bdde-45b9-a939-5b2b24cf8b13",
   "metadata": {},
   "outputs": [],
   "source": [
    "A9\n",
    "\n",
    "l=[]\n",
    "for i in range(100):\n",
    "    l.append(i+1)\n",
    "print(l)\n",
    "\n"
   ]
  }
 ],
 "metadata": {
  "kernelspec": {
   "display_name": "Python 3 (ipykernel)",
   "language": "python",
   "name": "python3"
  },
  "language_info": {
   "codemirror_mode": {
    "name": "ipython",
    "version": 3
   },
   "file_extension": ".py",
   "mimetype": "text/x-python",
   "name": "python",
   "nbconvert_exporter": "python",
   "pygments_lexer": "ipython3",
   "version": "3.10.8"
  }
 },
 "nbformat": 4,
 "nbformat_minor": 5
}
