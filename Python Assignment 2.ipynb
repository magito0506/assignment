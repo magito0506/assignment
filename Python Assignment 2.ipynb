{
 "cells": [
  {
   "cell_type": "code",
   "execution_count": null,
   "id": "012f2ae3-fcd7-43b0-9550-1f54508d59e9",
   "metadata": {},
   "outputs": [],
   "source": [
    "A1\n",
    "\n",
    "data = [('Sachin Tendulkar', 34357), ('Ricky Ponting', 27483), ('Jack Kallis', 25534), ('Virat Kohli', 24936)]\n",
    "l=len(data)\n",
    "for i in range(l-1):\n",
    "    for j in range(l-i-1):\n",
    "        if (lambda x:x[1])(data[j])>(lambda x:x[1])(data[j+1]):\n",
    "            data[j],data[j+1]=data[j+1],data[j]\n",
    "print(data)"
   ]
  },
  {
   "cell_type": "code",
   "execution_count": null,
   "id": "8d6dba4d-3366-4634-87d7-e7243a0be8e3",
   "metadata": {},
   "outputs": [],
   "source": [
    "A2\n",
    "\n",
    "data=[1, 2, 3, 4, 5, 6, 7, 8, 9, 10]\n",
    "sq_list=list(map(lambda x:x**2,data))\n",
    "print(sq_list)"
   ]
  },
  {
   "cell_type": "code",
   "execution_count": null,
   "id": "77ddb212-dabd-432d-ab8f-a7f21aac764d",
   "metadata": {},
   "outputs": [],
   "source": [
    "A3\n",
    "\n",
    "data=[1, 2, 3, 4, 5, 6, 7, 8, 9, 10]\n",
    "str_list=list(map(lambda x:str(x),data))\n",
    "print(str_list)"
   ]
  },
  {
   "cell_type": "code",
   "execution_count": null,
   "id": "33b3f416-df10-43b1-bc73-856c7700d2b6",
   "metadata": {},
   "outputs": [],
   "source": [
    "A4\n",
    "\n",
    "from functools import reduce\n",
    "data=range(1,26)\n",
    "value=reduce (lambda x,y:x*y,data)\n",
    "print(value)"
   ]
  },
  {
   "cell_type": "code",
   "execution_count": null,
   "id": "9cfbb88f-2401-48f4-ac5f-3d36dd02cba1",
   "metadata": {},
   "outputs": [],
   "source": [
    "A5 \n",
    "\n",
    "data=[2, 3, 6, 9, 27, 60, 90, 120, 55, 46]\n",
    "final=list(filter(lambda x:x%2==0 and x%3==0,data))\n",
    "print(final)"
   ]
  },
  {
   "cell_type": "code",
   "execution_count": null,
   "id": "1aae8a6d-36cc-40c5-9e4f-dc5050ff4c20",
   "metadata": {},
   "outputs": [],
   "source": [
    "A6\n",
    "\n"
   ]
  }
 ],
 "metadata": {
  "kernelspec": {
   "display_name": "Python 3 (ipykernel)",
   "language": "python",
   "name": "python3"
  },
  "language_info": {
   "codemirror_mode": {
    "name": "ipython",
    "version": 3
   },
   "file_extension": ".py",
   "mimetype": "text/x-python",
   "name": "python",
   "nbconvert_exporter": "python",
   "pygments_lexer": "ipython3",
   "version": "3.10.8"
  }
 },
 "nbformat": 4,
 "nbformat_minor": 5
}
