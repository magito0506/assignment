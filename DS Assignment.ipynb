{
 "cells": [
  {
   "cell_type": "code",
   "execution_count": null,
   "id": "7abc0160-6ac0-407d-a509-7d034bf1211e",
   "metadata": {},
   "outputs": [],
   "source": [
    "A1\n",
    "Comments can be added in python in two ways.\n",
    "1) Single line comment: These can be added by giving a \"#\" before the start of the comment line.(#comment)\n",
    "2) Multi-line comments: These can be written within the triple quotes. (\"\"\"comment\"\"\")"
   ]
  },
  {
   "cell_type": "code",
   "execution_count": null,
   "id": "77992335-6fbc-4947-b211-c31df8bdcac6",
   "metadata": {},
   "outputs": [],
   "source": [
    "A2\n",
    "Variables are used to store and manipulate data in Python. They are named references to the memory locations where values are stored.\n",
    "TO declare and assign values to a variable, the following syntax is used,\n",
    "valiable_name=value"
   ]
  },
  {
   "cell_type": "code",
   "execution_count": null,
   "id": "edabaa05-3506-4282-93f3-dd8ecbc51361",
   "metadata": {},
   "outputs": [],
   "source": [
    "A3\n",
    "One data type can be converted into another by typecasting in python. Example:\n",
    "    int() - to convert a value into integer\n",
    "    float() - to convert a value into floating point number\n",
    "    str() - to convert a value into string\n",
    "    list() - to convert a sequence to list\n",
    "    tuple() - to convert a sequence to tuples \n",
    "    bool() - to convert a sequence to Boolean Value"
   ]
  },
  {
   "cell_type": "code",
   "execution_count": null,
   "id": "4a5e8bbd-9345-4c28-a2e9-537fa09ff544",
   "metadata": {},
   "outputs": [],
   "source": [
    "A4\n",
    "Use the following steps to run a python file using command line:\n",
    "    1) Open notepad and write the code and save the fule using .py extension\n",
    "    2) Open command prompt and write reach the destination of the folder where the file is saved.\n",
    "    3) Give the name of the file with the extension to open the file you have saved.\n",
    "    4) Now it will open up the file with the desired app."
   ]
  },
  {
   "cell_type": "code",
   "execution_count": null,
   "id": "b920d501-60e9-4d86-9109-77d93714d60d",
   "metadata": {},
   "outputs": [],
   "source": [
    "A5\n",
    "my_list = [1, 2, 3, 4, 5]\n",
    "sub_list=my_list[1:3]\n",
    "print(sub_list)"
   ]
  },
  {
   "cell_type": "code",
   "execution_count": null,
   "id": "ff9f8e6c-cab1-4a1f-85e1-ccd9ccc614ca",
   "metadata": {},
   "outputs": [],
   "source": [
    "A6\n",
    "Complex number in mathematics is a number that comprise of two parts, a real part and an imaginary part.\n",
    "It can be represented as, a+ib, a represents real part and b represents imaginary part, and i is used to represent the imaginary part.\n",
    "\n",
    "while in python, it considers the imaginary part as, a + bj, where a is the real part and b is the imaginary part, and j is used for the representation of the imaginary part.\n",
    "to define a complex number we do it using the following syntax,\n",
    "z=complex(a,b)"
   ]
  },
  {
   "cell_type": "code",
   "execution_count": null,
   "id": "434ccce1-ca3c-425f-b1e5-712a561a65a8",
   "metadata": {},
   "outputs": [],
   "source": [
    "A7\n",
    "age=25"
   ]
  },
  {
   "cell_type": "code",
   "execution_count": null,
   "id": "aea40c19-026c-4cb1-a6b9-e6489c5fe9cc",
   "metadata": {},
   "outputs": [],
   "source": [
    "A8\n",
    "price=9.99\n",
    "The variable price is a float data type.\n",
    "You can use the function type(price) as well to check the type of data variable."
   ]
  },
  {
   "cell_type": "code",
   "execution_count": null,
   "id": "b0f03db8-315e-4ad8-9629-8b43a07ec6ea",
   "metadata": {},
   "outputs": [],
   "source": [
    "A10\n",
    "name=\"Mayank Srivastava\"\n",
    "print(name)"
   ]
  },
  {
   "cell_type": "code",
   "execution_count": null,
   "id": "b0719808-7d1e-4820-975f-9aec15d4061d",
   "metadata": {},
   "outputs": [],
   "source": []
  }
 ],
 "metadata": {
  "kernelspec": {
   "display_name": "Python 3 (ipykernel)",
   "language": "python",
   "name": "python3"
  },
  "language_info": {
   "codemirror_mode": {
    "name": "ipython",
    "version": 3
   },
   "file_extension": ".py",
   "mimetype": "text/x-python",
   "name": "python",
   "nbconvert_exporter": "python",
   "pygments_lexer": "ipython3",
   "version": "3.10.8"
  }
 },
 "nbformat": 4,
 "nbformat_minor": 5
}
